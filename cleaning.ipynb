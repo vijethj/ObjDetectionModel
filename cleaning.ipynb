{
 "cells": [
  {
   "cell_type": "code",
   "execution_count": 168,
   "metadata": {},
   "outputs": [],
   "source": [
    "import pandas as pd\n",
    "import os\n",
    "import cv2"
   ]
  },
  {
   "cell_type": "code",
   "execution_count": 173,
   "metadata": {},
   "outputs": [],
   "source": [
    "csv_folder_path = \"F:\\Sem6\\TDL\\hackathon1\\Training Dataset_csv_old\" #original dataset\n",
    "csv_new_path = \"F:\\Sem6\\TDL\\hackathon1\\Training Dataset_csv\"  #Stores partially cleaned dataset but with columns\n",
    "\n",
    "#csv_main_path = \"F:\\Sem6\\TDL\\hackathon1\\Training Dataset_csv\"  #Stores completely cleaned dataset\n"
   ]
  },
  {
   "cell_type": "code",
   "execution_count": 170,
   "metadata": {},
   "outputs": [],
   "source": [
    "csv_files = [f for f in os.listdir(csv_folder_path) if f.endswith('.csv')]\n",
    "\n",
    "for csv_file in csv_files:\n",
    "    csv_file_path = os.path.join(csv_folder_path, csv_file )\n",
    "    df = pd.read_csv(csv_file_path, header= None)\n",
    "    col_names = ['col1', 'col2', 'col3', 'col4', 'col5']\n",
    "    df.columns = col_names\n",
    "    col_names_to_delete = ['col2', 'col3', 'col4', 'col5']\n",
    "    expected_format = r\"^\\[[^,]+,[^,]+,[^,]+,[^,]+\\]$\"\n",
    "    mask = df[col_names_to_delete].apply(lambda x: ~x.str.match(expected_format)).all(axis=1)\n",
    "    df = df[~mask]\n",
    "    \n",
    "    #if df.iloc[0].isnull().sum() == len(df.columns):\n",
    "    #    df = df.drop(index=0)\n",
    "    \n",
    "    if df.isnull().values.any():\n",
    "        df = df.dropna() # Remove rows with missing data\n",
    "    \n",
    "    if df.duplicated().sum() > 0:\n",
    "        df = df.drop_duplicates() # Remove duplicate rows\n",
    "    #df = df.reset_index(drop=True)\n",
    "    #df = df.iloc[1:]  # should now work without raising a KeyError\n",
    "    #if not df.empty:\n",
    "    #if len(df.index) > 1:\n",
    "    #    df = df.iloc[1:]\n",
    "    #    df.columns = None\n",
    "    #df = df.drop(index=0)\n",
    "    # Reset index\n",
    "    #df.reset_index(drop=True, inplace=True)\n",
    "\n",
    "    cleaned_file_path = os.path.join(csv_new_path, csv_file)\n",
    "    #df2 = pd.read_csv(cleaned_file_path, header= None)\n",
    "    df.to_csv(cleaned_file_path, index=False)\n"
   ]
  }
 ],
 "metadata": {
  "kernelspec": {
   "display_name": "Python 3",
   "language": "python",
   "name": "python3"
  },
  "language_info": {
   "codemirror_mode": {
    "name": "ipython",
    "version": 3
   },
   "file_extension": ".py",
   "mimetype": "text/x-python",
   "name": "python",
   "nbconvert_exporter": "python",
   "pygments_lexer": "ipython3",
   "version": "3.9.0"
  },
  "orig_nbformat": 4
 },
 "nbformat": 4,
 "nbformat_minor": 2
}
